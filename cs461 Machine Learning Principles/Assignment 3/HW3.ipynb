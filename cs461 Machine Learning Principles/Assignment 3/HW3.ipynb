{
  "nbformat": 4,
  "nbformat_minor": 0,
  "metadata": {
    "colab": {
      "provenance": []
    },
    "kernelspec": {
      "name": "python3",
      "display_name": "Python 3"
    },
    "language_info": {
      "name": "python"
    }
  },
  "cells": [
    {
      "cell_type": "code",
      "execution_count": null,
      "metadata": {
        "id": "912nldduiAVE"
      },
      "outputs": [],
      "source": [
        "import numpy as np\n",
        "import math\n",
        "import matplotlib.pyplot as plt\n",
        "import random as rd\n",
        "import pandas as pd\n",
        "from sympy import *"
      ]
    },
    {
      "cell_type": "markdown",
      "source": [
        "data generaotor"
      ],
      "metadata": {
        "id": "K45OCMMxX0Hg"
      }
    },
    {
      "cell_type": "code",
      "source": [
        "def data_generator(n,d,var):\n",
        "  if d<1: \n",
        "    return \n",
        "  std = var ** 0.5\n",
        "  data = []\n",
        "\n",
        "  for i in range(n):  \n",
        "    temp = [np.random.normal(loc=0,scale=1)]       #X_1\n",
        "    temp.append(temp[0]+np.random.normal(loc=0,scale=std)) #X_2\n",
        "    temp.append(temp[0]+np.random.normal(loc=0,scale=std)) #X_3\n",
        "    temp.append(temp[0]+np.random.normal(loc=0,scale=std)) #X_4\n",
        "    for i in range(4,d):  #X_i\n",
        "      temp.append(temp[i-3]+np.random.normal(loc=0,scale=std))\n",
        "    data.append(temp)\n",
        "\n",
        "  return np.array(data)"
      ],
      "metadata": {
        "id": "kpq118sjiTH6"
      },
      "execution_count": null,
      "outputs": []
    },
    {
      "cell_type": "markdown",
      "source": [
        "1. Auto-Encoders"
      ],
      "metadata": {
        "id": "P9_aVeG-83lk"
      }
    },
    {
      "cell_type": "code",
      "source": [
        "def tanh(z): \n",
        "  sigma = (np.exp(z)-np.exp(-z)) / (np.exp(z)+np.exp(-z))\n",
        "  return sigma\n",
        "\n",
        "def tanh_derivative(z): \n",
        "  sigma_prime = (4 * np.exp(2*z)) / ((np.exp(2*z) + 1) ** 2)\n",
        "  return sigma_prime\n",
        "\n",
        "def updateGD(alpha,d,k,w_old,v_old,X,Y,Out): # d = 30,k = number of inner nodes\n",
        "  temp = 2 * (Out-X)\n",
        "\n",
        "  v_new = np.ones((d,k+1))\n",
        "  for i in range(d):\n",
        "    for j in range(k+1):\n",
        "      v_new[i][j] = v_old[i][j] - alpha * temp[i+1] * Y[j]\n",
        "                                           \n",
        "  w_new = np.ones((k,d+1))\n",
        "  for i in range(k):\n",
        "    temp_d = alpha * (temp[1:].dot(v_new[:,i])) * X * tanh_derivative(w_old[i].dot(X))\n",
        "    for j in range(d+1):\n",
        "      w_new[i][j] = w_old[i][j] - temp_d[j]\n",
        "  \n",
        "  return w_new, v_new"
      ],
      "metadata": {
        "id": "-ftKyJ4eEvUZ"
      },
      "execution_count": null,
      "outputs": []
    },
    {
      "cell_type": "code",
      "source": [
        "def AELoss(data,w,v,d,k):\n",
        "  loss = 0\n",
        "  n = len(data)\n",
        "  Y = np.ones(k+1)\n",
        "  Out = np.ones(d+1)\n",
        "  for i in range(n):\n",
        "    for m in range(k):\n",
        "      Y[m+1] = tanh(w[m].dot(data[i]))\n",
        "    for n in range(d):\n",
        "      #print(v_start[n],Y)\n",
        "      Out[n+1] = v[n].dot(Y)\n",
        "      #print(X_test[i] - Out)\n",
        "    loss += np.linalg.norm(data[i][1:] - Out[1:]) ** 2\n",
        "  #print(loss/n)\n",
        "  return loss/n"
      ],
      "metadata": {
        "id": "FA2T-V4Bds35"
      },
      "execution_count": null,
      "outputs": []
    },
    {
      "cell_type": "code",
      "source": [
        "def findSGD3(w_start,v_start,X,alpha,k):\n",
        "  Length = len(X)\n",
        "  d = len(X[0])-1\n",
        "  w_current = w_start\n",
        "  v_current = v_start\n",
        "\n",
        "  Y = np.ones(k+1)\n",
        "  Out = np.ones(d+1)\n",
        "  Loss = []\n",
        "  W = []\n",
        "  V = []\n",
        "\n",
        "  for i in range(Length): \n",
        "    #print('start ',i)\n",
        "    for m in range(k):\n",
        "      Y[m+1] = tanh(w_current[m].dot(X[i]))\n",
        "    for n in range(d):\n",
        "      #print(v_start[n],Y)\n",
        "      Out[n+1] = v_current[n].dot(Y)\n",
        "    Loss.append(np.linalg.norm(X[i] - Out))\n",
        "    W.append(w_current)\n",
        "    V.append(v_current)\n",
        "\n",
        "    w_next,v_next = updateGD(alpha,d,k,w_current,v_current,X[i],Y,Out)\n",
        "    w_current = w_next\n",
        "    v_current = v_next\n",
        "  index = Loss.index(min(Loss))\n",
        "  #print(index,Loss[index])\n",
        "  #plt.plot(Loss)\n",
        "  return W[index], V[index]"
      ],
      "metadata": {
        "id": "1XsCBaVzvH-1"
      },
      "execution_count": null,
      "outputs": []
    },
    {
      "cell_type": "code",
      "source": [
        "X = data_generator(5000,30,0.1)\n",
        "X = np.hstack((np.ones((5000,1)),X))\n",
        "X_test = data_generator(500,30,0.1)\n",
        "X_test = np.hstack((np.ones((500,1)),X_test))\n",
        "d = 30\n",
        "\n",
        "#k = 6\n",
        "alpha = 0.00001\n",
        "\n",
        "Loss = []\n",
        "for j in range(30):\n",
        "  k = j+1\n",
        "  print('start k = ',k)\n",
        "  w = np.zeros((k,d+1))\n",
        "  v = np.ones((d,k+1))\n",
        "  w,v = findSGD3(w,v,X,alpha,k)\n",
        "  #print('w=',w,'v=',v)\n",
        "  loss = AELoss(X_test,w,v,d,k)\n",
        "  Loss.append(loss)"
      ],
      "metadata": {
        "colab": {
          "base_uri": "https://localhost:8080/"
        },
        "id": "heWBo4G0S864",
        "outputId": "5c280fbc-9cc1-43fc-aa6b-cc0a3275e9d6"
      },
      "execution_count": null,
      "outputs": [
        {
          "output_type": "stream",
          "name": "stdout",
          "text": [
            "start k =  1\n",
            "start k =  2\n",
            "start k =  3\n",
            "start k =  4\n",
            "start k =  5\n",
            "start k =  6\n",
            "start k =  7\n",
            "start k =  8\n",
            "start k =  9\n",
            "start k =  10\n",
            "start k =  11\n",
            "start k =  12\n",
            "start k =  13\n",
            "start k =  14\n",
            "start k =  15\n",
            "start k =  16\n",
            "start k =  17\n",
            "start k =  18\n",
            "start k =  19\n",
            "start k =  20\n",
            "start k =  21\n",
            "start k =  22\n",
            "start k =  23\n",
            "start k =  24\n",
            "start k =  25\n",
            "start k =  26\n",
            "start k =  27\n",
            "start k =  28\n",
            "start k =  29\n",
            "start k =  30\n"
          ]
        }
      ]
    },
    {
      "cell_type": "code",
      "source": [
        "print(Loss)\n",
        "K = np.linspace(1,30,num=30)\n",
        "plt.plot(K,Loss)\n",
        "plt.title('var = %.1f' %0.1)"
      ],
      "metadata": {
        "colab": {
          "base_uri": "https://localhost:8080/",
          "height": 336
        },
        "id": "tSon8bPF2YMW",
        "outputId": "d7853cc8-7052-4019-8186-c7fc4051a049"
      },
      "execution_count": null,
      "outputs": [
        {
          "output_type": "stream",
          "name": "stdout",
          "text": [
            "[556.4749859294127, 289.9057032150367, 231.57617124929212, 215.49470497411883, 210.55381652167054, 208.630741947031, 207.7538588631323, 207.30366854042737, 207.05158494470103, 206.90117138362456, 206.80706496336043, 206.74599703940405, 206.7051929614844, 206.6772579232527, 206.65773041310055, 206.64382883478666, 206.63377189322762, 206.6263926032205, 206.6209107193073, 206.61679450764248, 206.6136747788372, 206.61129043045543, 206.60945348565113, 206.60802648426233, 206.60690788289511, 206.6060227552402, 206.60531702568295, 206.604753978495, 206.6043120163902, 206.60398269733025]\n"
          ]
        },
        {
          "output_type": "execute_result",
          "data": {
            "text/plain": [
              "Text(0.5, 1.0, 'var = 0.1')"
            ]
          },
          "metadata": {},
          "execution_count": 144
        },
        {
          "output_type": "display_data",
          "data": {
            "text/plain": [
              "<Figure size 432x288 with 1 Axes>"
            ],
            "image/png": "[encoded data removed]"
          },
          "metadata": {
            "needs_background": "light"
          }
        }
      ]
    },
    {
      "cell_type": "code",
      "source": [
        "var = 0.01\n",
        "Variance = []\n",
        "Loss_var = []\n",
        "while var < 2.1:\n",
        "  Variance.append(var)\n",
        "  X = data_generator(5000,30,var)\n",
        "  X = np.hstack((np.ones((5000,1)),X))\n",
        "  X_test = data_generator(500,30,var)\n",
        "  X_test = np.hstack((np.ones((500,1)),X_test))\n",
        "  d = 30\n",
        "\n",
        "  alpha = 0.00001\n",
        "\n",
        "  Loss = []\n",
        "  for j in range(30): # sigma^2\n",
        "    k = j+1\n",
        "    print('start k = ',k)\n",
        "    w = np.zeros((k,d+1))\n",
        "    v = np.ones((d,k+1))\n",
        "    w,v = findSGD3(w,v,X,alpha,k)\n",
        "    #print('w=',w,'v=',v)\n",
        "    loss = AELoss(X_test,w,v,d,k)\n",
        "    Loss.append(loss)\n",
        "  Loss_var.append(Loss)\n",
        "\n",
        "  var += 0.5\n"
      ],
      "metadata": {
        "id": "PdmCWG2xJpaB"
      },
      "execution_count": null,
      "outputs": []
    },
    {
      "cell_type": "code",
      "source": [
        "print(Loss_var)\n",
        "K = np.linspace(1,30,num=30)\n",
        "for i in range(len(Loss_var)):\n",
        "  plt.figure(i)\n",
        "  plt.plot(K,Loss_var[i])\n",
        "  plt.title('var = %.1f' %round(Variance[i],1))"
      ],
      "metadata": {
        "colab": {
          "base_uri": "https://localhost:8080/",
          "height": 1000
        },
        "id": "vKGDGARqLdTw",
        "outputId": "6cd3039a-ebc3-4e1e-ade2-fe9eb4e7ba94"
      },
      "execution_count": null,
      "outputs": [
        {
          "output_type": "stream",
          "name": "stdout",
          "text": [
            "[[316.8313535063538, 74.08066323832777, 33.38740722897459, 24.31981341115696, 21.873296746144092, 21.719440754599713, 20.85764584358833, 20.51874224009438, 20.364222690448013, 20.284214404955204, 20.238539168766096, 20.202182881541898, 20.186834704412426, 20.176062517732074, 20.168268044401724, 20.162502036844913, 20.15817175788886, 20.154888425576463, 20.152385438900826, 20.15047323482588, 20.149013439268337, 20.147903363197816, 20.14706618322448, 20.146444367092748, 20.145995060333565, 20.14568675183854, 20.145496849771575, 20.14540996553468, 20.14541679645081, 20.145513555885973], [1510.6359438598336, 1145.0330644291678, 1067.7162226889359, 1046.0557897497465, 1038.7443106327587, 1035.8110326993194, 1034.4516247333513, 1033.759619400831, 1033.3845778888917, 1033.1713838934106, 1033.0454994089857, 1032.9692415828474, 1032.9229508156884, 1032.8962333847312, 1032.8836741721466, 1032.8826920876083, 1032.892574776766, 1032.9144196782445, 1032.9523892082882, 1033.0191462108783, 1032.1918207852736, 1032.0578599206488, 1031.5573497974012, 1034.0707283015386, 1032.226269698598, 1033.8870754072186, 1038.2506264528854, 1106.7252524543858, 1032.9968326534445, 1036.3234067872634], [2805.6319643195193, 2233.1121720109218, 2127.3783925948524, 2098.359185634108, 2092.108948415958, 2092.4183807877694, 2093.271536618191, 2093.3102259365605, 2092.777783805547, 2091.9670475157586, 2090.733163847482, 2088.9571557350637, 2123.7887385248973, 2104.9648574525004, 2086.2463004085484, 2093.917395180965, 2093.1255852867093, 2100.688176757333, 2105.8563265406274, 2122.340203892191, 2165.5952836049955, 2085.562016518982, 2748.848166552042, 2051.014528667487, 2129.341349003767, 3683.7429707208785, 2381.9411369483723, 2144.9084144768135, 5054.48737377738, 1949.6631437074752], [3959.0962743321884, 3451.7834616943874, 3281.29166791643, 3205.6150032952232, 3178.723757522256, 3184.3299169131005, 3170.676341521348, 3166.343491893211, 3171.9951518668336, 3200.878021472998, 3376.9582422995245, 3197.225753550083, 3150.788740748977, 3380.594112332019, 15432.061070623111, 4692.974355810738, 14064.51913867555, 18870.927753260094, 2741.8583231275534, 3311.5100372095626, 5660.96042652783, 3594.3738024598665, 2549.3225787818096, 3277.1691185249165, 3300.62463975262, 74269.3964282951, 4369.997110602991, 5115.3386267126825, 3002.2352681151765, 63694.764614250744], [5105.341066113285, 4574.513604913325, 4336.987902829039, 4262.900343750994, 4240.3085222056325, 4232.399668055137, 4229.056492550413, 4227.314826381049, 4229.2747263250085, 4272.878503968375, 4247.260481869101, 4296.198294360919, 4186.2605488649515, 4233.545588706054, 3876.4955283803465, 3706.4614219735618, 4228.075403345324, 3576.0078101591166, 3954.937730853835, 4778.218557400105, 3356.4054010136706, 4338.308563964905, 3653.9167664036454, 4633.2879925537, 4297.957447909343, 4447.28467482776, 4059.4511129936004, 4927.5183818182595, 4065.9263258069013, 6643.40308047526]]\n"
          ]
        },
        {
          "output_type": "display_data",
          "data": {
            "text/plain": [
              "<Figure size 432x288 with 1 Axes>"
            ],
            "image/png": "[encoded data removed]"
          },
          "metadata": {
            "needs_background": "light"
          }
        },
        {
          "output_type": "display_data",
          "data": {
            "text/plain": [
              "<Figure size 432x288 with 1 Axes>"
            ],
            "image/png": "[encoded data removed]"
          },
          "metadata": {
            "needs_background": "light"
          }
        },
        {
          "output_type": "display_data",
          "data": {
            "text/plain": [
              "<Figure size 432x288 with 1 Axes>"
            ],
            "image/png": "[encoded data removed]"
          },
          "metadata": {
            "needs_background": "light"
          }
        },
        {
          "output_type": "display_data",
          "data": {
            "text/plain": [
              "<Figure size 432x288 with 1 Axes>"
            ],
            "image/png": "[encoded data removed]"
          },
          "metadata": {
            "needs_background": "light"
          }
        },
        {
          "output_type": "display_data",
          "data": {
            "text/plain": [
              "<Figure size 432x288 with 1 Axes>"
            ],
            "image/png": "[encoded data removed]"
          },
          "metadata": {
            "needs_background": "light"
          }
        }
      ]
    },
    {
      "cell_type": "markdown",
      "source": [
        "2 PCA"
      ],
      "metadata": {
        "id": "_221upruEYcQ"
      }
    },
    {
      "cell_type": "code",
      "source": [
        "def Check(n,value):  # n=30\n",
        "  c = value.mean() / 2\n",
        "  dimension = 0\n",
        "  eigenval = []\n",
        "  for i in range(n):\n",
        "    if value[i] >= c:\n",
        "      dimension += 1\n",
        "      eigenval.append(i+1)\n",
        "  return dimension,eigenval"
      ],
      "metadata": {
        "id": "nJA-DoBWEIJj"
      },
      "execution_count": null,
      "outputs": []
    },
    {
      "cell_type": "code",
      "source": [
        "for i in range(3):\n",
        "  X = data_generator(5000,30,0.1)\n",
        "  XT = np.transpose(X)\n",
        "  XTX = XT.dot(X)\n",
        "  Evalue,Evector = np.linalg.eig(XTX)\n",
        "  dim,eigenval = Check(30,Evalue)\n",
        "  print('try = ',i,', dim = ',dim)"
      ],
      "metadata": {
        "colab": {
          "base_uri": "https://localhost:8080/"
        },
        "id": "NdtcGzlZEJp2",
        "outputId": "a9ebee12-39ab-4551-c611-437b2d4239a9"
      },
      "execution_count": null,
      "outputs": [
        {
          "output_type": "stream",
          "name": "stdout",
          "text": [
            "try =  0 , dim =  4\n",
            "try =  1 , dim =  4\n",
            "try =  2 , dim =  4\n"
          ]
        }
      ]
    },
    {
      "cell_type": "code",
      "source": [
        "variance = 0\n",
        "var = []\n",
        "dimension = []\n",
        "collection = []\n",
        "while variance <= 2:\n",
        "  print('start var = ',variance)\n",
        "  var.append(variance)\n",
        "  X = data_generator(5000,30,variance)\n",
        "  XT = np.transpose(X)\n",
        "  XTX = XT.dot(X)\n",
        "  Evalue,Evector = np.linalg.eig(XTX)\n",
        "  dim,eigenval = Check(30,Evalue)\n",
        "  dimension.append(dim)\n",
        "  collection.append(eigenval)\n",
        "  variance = round(variance+0.1,1)"
      ],
      "metadata": {
        "colab": {
          "base_uri": "https://localhost:8080/"
        },
        "id": "gOczAjFed3AT",
        "outputId": "4bb75817-5dff-462a-c8bf-e18476ae7c44"
      },
      "execution_count": null,
      "outputs": [
        {
          "output_type": "stream",
          "name": "stdout",
          "text": [
            "start var =  0\n",
            "start var =  0.1\n",
            "start var =  0.2\n",
            "start var =  0.3\n",
            "start var =  0.4\n",
            "start var =  0.5\n",
            "start var =  0.6\n",
            "start var =  0.7\n",
            "start var =  0.8\n",
            "start var =  0.9\n",
            "start var =  1.0\n",
            "start var =  1.1\n",
            "start var =  1.2\n",
            "start var =  1.3\n",
            "start var =  1.4\n",
            "start var =  1.5\n",
            "start var =  1.6\n",
            "start var =  1.7\n",
            "start var =  1.8\n",
            "start var =  1.9\n",
            "start var =  2.0\n"
          ]
        }
      ]
    },
    {
      "cell_type": "code",
      "source": [
        "print(collection)\n",
        "plt.plot(var,dimension)"
      ],
      "metadata": {
        "colab": {
          "base_uri": "https://localhost:8080/",
          "height": 320
        },
        "id": "CUATxCcrmePz",
        "outputId": "55ee202e-efe7-4566-f303-5ad967311901"
      },
      "execution_count": null,
      "outputs": [
        {
          "output_type": "stream",
          "name": "stdout",
          "text": [
            "[[2], [1, 2, 3, 4], [1, 2, 3, 4, 5], [1, 2, 3, 4, 5, 6], [1, 2, 3, 4, 5, 6], [1, 2, 3, 4, 5, 6], [1, 2, 3, 4, 5, 6], [1, 2, 3, 4, 5, 6], [1, 2, 3, 4, 5, 6], [1, 2, 3, 4, 5, 6], [1, 2, 3, 4, 5, 6], [1, 2, 3, 4, 5, 6], [1, 2, 3, 4, 5, 6], [1, 2, 3, 4, 5, 6], [1, 2, 3, 4, 5, 6], [1, 2, 3, 4, 5, 6], [1, 2, 3, 4, 5, 6], [1, 2, 3, 4, 5, 6], [1, 2, 3, 4, 5, 6], [1, 2, 3, 4, 5, 6], [1, 2, 3, 4, 5, 6]]\n"
          ]
        },
        {
          "output_type": "execute_result",
          "data": {
            "text/plain": [
              "[<matplotlib.lines.Line2D at 0x7fcb0ad2ffa0>]"
            ]
          },
          "metadata": {},
          "execution_count": 167
        },
        {
          "output_type": "display_data",
          "data": {
            "text/plain": [
              "<Figure size 432x288 with 1 Axes>"
            ],
            "image/png": "[encoded data removed]"
          },
          "metadata": {
            "needs_background": "light"
          }
        }
      ]
    },
    {
      "cell_type": "markdown",
      "source": [
        "3 Correlation Graphs"
      ],
      "metadata": {
        "id": "1HCXs3m23PqD"
      }
    },
    {
      "cell_type": "code",
      "source": [
        "def findGD(start,X,X_T,Y,alpha,terminate):\n",
        "  XTX = np.matmul(X_T,X)/500\n",
        "  XTY = np.matmul(X_T,Y)/500\n",
        "  tol = 0\n",
        "  current = start\n",
        "  next = start-alpha*(np.matmul(XTX,start)-XTY)\n",
        "  while np.linalg.norm(next - current) > 0.0001 and tol < terminate: \n",
        "    if isinstance(next[0], complex):\n",
        "      break\n",
        "    current = next\n",
        "    next = current - alpha*(np.matmul(XTX,current)-XTY)\n",
        "    tol += 1\n",
        "  error =  pow(np.matmul(X,current)-Y,2).mean()\n",
        "  return current,error\n",
        "\n",
        "def GDdriver(X,d,alpha):    # X is 5000x30 matrix, d=30 \n",
        "  W = []\n",
        "  for j in range(d):\n",
        "    #print('start = ',j)\n",
        "    Y = X[:,j]\n",
        "    temp_X = np.delete(X,j,1)\n",
        "    temp_XT = np.transpose(temp_X)\n",
        "    error_min = math.inf\n",
        "    w_optimal = []\n",
        "    for i in range(10):\n",
        "      w0 = np.random.rand(d-1)\n",
        "      wt,error_t = findGD(w0,temp_X,temp_XT,Y,alpha,5000)\n",
        "      if error_t <= error_min: \n",
        "        w_optimal = wt\n",
        "    w_optimal = np.insert(w_optimal,j,0)\n",
        "    W.append(w_optimal)\n",
        "  return W"
      ],
      "metadata": {
        "id": "w81g92ij3Hbt"
      },
      "execution_count": 227,
      "outputs": []
    },
    {
      "cell_type": "code",
      "source": [
        "a = np.array([[1, 1], [2, 2], [3, 3]])\n",
        "np.insert(a,3,[1, 2])"
      ],
      "metadata": {
        "colab": {
          "base_uri": "https://localhost:8080/"
        },
        "id": "fMhZYgI6jxTl",
        "outputId": "8e6709e1-0ec8-4982-eb84-e7c7cfc0ce23"
      },
      "execution_count": 185,
      "outputs": [
        {
          "output_type": "execute_result",
          "data": {
            "text/plain": [
              "array([1, 1, 2, 1, 2, 2, 3, 3])"
            ]
          },
          "metadata": {},
          "execution_count": 185
        }
      ]
    },
    {
      "cell_type": "code",
      "source": [
        "var = 0.1\n",
        "d = 30\n",
        "X = data_generator(5000,d,var)\n",
        "alpha = 0.000001\n",
        "W = GDdriver(X,d,alpha)\n",
        "#print(W)"
      ],
      "metadata": {
        "id": "7ztMfbXtW-dy"
      },
      "execution_count": null,
      "outputs": []
    },
    {
      "cell_type": "code",
      "source": [
        "Index = []\n",
        "for i in range(len(W)):\n",
        "  w = pd.Series(W[i])\n",
        "  depend = w.nlargest(10)\n",
        "  depend = depend.index.values.tolist() \n",
        "  Index.append(depend)\n",
        "\n",
        "Index = pd.DataFrame(Index)\n",
        "print(Index)"
      ],
      "metadata": {
        "colab": {
          "base_uri": "https://localhost:8080/"
        },
        "id": "UPTfsxiKdNCo",
        "outputId": "8bbf226a-726e-4408-b7a2-60d6e50042aa"
      },
      "execution_count": null,
      "outputs": [
        {
          "output_type": "stream",
          "name": "stdout",
          "text": [
            "     0   1   2   3   4   5   6   7   8   9\n",
            "0    1   3   2  26  13  25  18  20  28  14\n",
            "1    4   0   5  27  28   8   6  17  22  12\n",
            "2    5   0   9   8  17  22   3  10   6   4\n",
            "3    6   0  22  23   1   2  27  17  24   8\n",
            "4    1   7  18  13  16  19   2  28  22  24\n",
            "5    2   8  29   1  25   7  21  20  27  23\n",
            "6    3   9  16  15   8  12  23   5  28  18\n",
            "7   10   4  26   1  25   9   5  14  18   8\n",
            "8   11   5  15  16  24   3   2   9  19  18\n",
            "9   12   6  27  19  24  29  26  25  10  14\n",
            "10   7  13   3  19   4  16   6  25   0  24\n",
            "11   8  14  21  22  12  27  23  13  20   7\n",
            "12   9  15  11  13  28   0   1  22  18  16\n",
            "13  10  16  12  17  29   1   2  26  21  15\n",
            "14  11  17  19   6  16  26  28   0  10   2\n",
            "15  12  18   3  24  21   2  19  26   4   5\n",
            "16  13  19   4   6  14   5  27   8  10  24\n",
            "17  14  20  13  27  18  21   8   9  25   3\n",
            "18  15  21  17   8  22  19   4  27  25  23\n",
            "19  22  16   9  13  23  15   2  17  10   5\n",
            "20  17  23  28   9  26   6   4   1  22  19\n",
            "21  18  24  11  20  27  28   1  16  13  15\n",
            "22  19  25  24  29  28  16  20  14   0   1\n",
            "23  20  26  11  10  24  22   7  21   5  15\n",
            "24  27  21  22   0  23   8   4   7  25  15\n",
            "25  28  22   9  10  17  11   2  26  23   7\n",
            "26  29  23  25   1   9  19  14  16   2  17\n",
            "27  24   1  21  20  16   9  28  17  19   3\n",
            "28  25   1  22  21  14  12   0  27  29   4\n",
            "29  26  22  10   5  11   9  20  28  23  24\n"
          ]
        }
      ]
    },
    {
      "cell_type": "code",
      "source": [
        "var = 0.1\n",
        "d = 30\n",
        "X = data_generator(5000,d,var)\n",
        "alpha = 0.00001\n",
        "W2 = GDdriver(X,d,alpha)\n",
        "#print(W2)"
      ],
      "metadata": {
        "id": "G5Fz9zpizyVV"
      },
      "execution_count": null,
      "outputs": []
    },
    {
      "cell_type": "code",
      "source": [
        "Index2 = []\n",
        "for i in range(len(W2)):\n",
        "  w = pd.Series(W2[i])\n",
        "  depend = w.nlargest(10)\n",
        "  depend = depend.index.values.tolist() \n",
        "  Index2.append(depend)\n",
        "\n",
        "Index2"
      ],
      "metadata": {
        "colab": {
          "base_uri": "https://localhost:8080/"
        },
        "id": "iVAoQ7lBz1W3",
        "outputId": "eea9d61d-5bd6-4e4e-e1ae-ca8e5976d869"
      },
      "execution_count": null,
      "outputs": [
        {
          "output_type": "execute_result",
          "data": {
            "text/plain": [
              "[[3, 1, 2, 10, 23, 5, 17, 15, 19, 25],\n",
              " [0, 4, 2, 14, 21, 16, 18, 6, 7, 23],\n",
              " [5, 0, 1, 10, 11, 3, 20, 21, 24, 28],\n",
              " [6, 0, 22, 14, 9, 4, 24, 26, 23, 13],\n",
              " [1, 7, 10, 3, 5, 17, 23, 12, 22, 19],\n",
              " [2, 8, 17, 9, 25, 11, 4, 27, 26, 3],\n",
              " [3, 9, 13, 20, 15, 22, 0, 2, 11, 21],\n",
              " [10, 4, 11, 19, 25, 5, 9, 0, 24, 17],\n",
              " [5, 11, 0, 14, 22, 18, 12, 6, 20, 16],\n",
              " [12, 6, 0, 17, 5, 18, 4, 7, 19, 27],\n",
              " [13, 7, 2, 4, 25, 8, 16, 14, 18, 17],\n",
              " [14, 8, 16, 22, 5, 6, 7, 23, 17, 28],\n",
              " [9, 15, 18, 25, 8, 13, 1, 24, 20, 29],\n",
              " [10, 16, 3, 1, 7, 19, 12, 23, 5, 22],\n",
              " [17, 11, 19, 0, 8, 13, 21, 20, 18, 4],\n",
              " [12, 18, 2, 23, 19, 13, 21, 7, 17, 28],\n",
              " [19, 13, 11, 20, 6, 21, 12, 5, 29, 10],\n",
              " [20, 14, 5, 11, 9, 0, 22, 21, 15, 4],\n",
              " [21, 15, 20, 1, 22, 5, 0, 26, 13, 9],\n",
              " [16, 22, 15, 24, 1, 14, 26, 9, 7, 17],\n",
              " [17, 23, 26, 5, 15, 16, 10, 0, 28, 9],\n",
              " [18, 24, 22, 23, 16, 17, 6, 28, 27, 12],\n",
              " [19, 25, 3, 18, 13, 8, 5, 24, 20, 9],\n",
              " [20, 26, 0, 15, 9, 21, 22, 13, 11, 4],\n",
              " [21, 27, 2, 16, 22, 18, 7, 6, 26, 3],\n",
              " [28, 22, 6, 18, 12, 7, 5, 26, 1, 19],\n",
              " [29, 23, 3, 14, 12, 1, 20, 8, 19, 24],\n",
              " [24, 21, 10, 12, 11, 5, 22, 17, 0, 28],\n",
              " [25, 0, 13, 15, 6, 14, 21, 23, 19, 9],\n",
              " [26, 5, 17, 0, 15, 21, 6, 4, 13, 27]]"
            ]
          },
          "metadata": {},
          "execution_count": 171
        }
      ]
    },
    {
      "cell_type": "code",
      "source": [
        "def drawDependency(Index):\n",
        "  d = len(Index)\n",
        "  result = []\n",
        "  for i in range(3):\n",
        "    dependency = [1]\n",
        "    indicator = np.zeros(30)\n",
        "    print('X',1)\n",
        "    indicator[0] = 1\n",
        "    cnt = 1\n",
        "    current = Index[0][0]\n",
        "    next = Index[0][i+1]\n",
        "    length = 11\n",
        "    if next/3 == 1:\n",
        "      length = 10\n",
        "    while cnt < length:\n",
        "      print('-> X',next+1)\n",
        "      dependency.append(next+1)\n",
        "      indicator[current] = 1\n",
        "      current = next\n",
        "      for j in range(10): \n",
        "        if indicator[Index[current][j]] == 0: \n",
        "          next = Index[current][j]\n",
        "          break\n",
        "        next = 0    # back to X1\n",
        "      cnt += 1\n",
        "    result.append(dependency)\n",
        "  return result"
      ],
      "metadata": {
        "id": "0ZShDYhPTHbM"
      },
      "execution_count": 180,
      "outputs": []
    },
    {
      "cell_type": "code",
      "source": [
        "var = 0.01\n",
        "d = 30\n",
        "Variance = []\n",
        "Results = []\n",
        "while var < 2.1:\n",
        "  print('start var = ',var)\n",
        "  Variance.append(var)\n",
        "  X = data_generator(5000,d,var)\n",
        "  alpha = 0.00001\n",
        "  W = GDdriver(X,d,alpha)\n",
        "  Index = []\n",
        "  for i in range(len(W)):\n",
        "    w = pd.Series(W[i])\n",
        "    depend = w.nlargest(10)\n",
        "    depend = depend.index.values.tolist() \n",
        "    Index.append(depend)\n",
        "  result = drawDependency(Index)\n",
        "  Results.append(result)\n",
        "  var = round(var+0.5,2)"
      ],
      "metadata": {
        "id": "sGenz-jCUULn",
        "colab": {
          "base_uri": "https://localhost:8080/"
        },
        "outputId": "70ea42c3-fedd-44c7-f6cf-8b2c50b99979"
      },
      "execution_count": 229,
      "outputs": [
        {
          "output_type": "stream",
          "name": "stdout",
          "text": [
            "start var =  0.01\n",
            "X 1\n",
            "-> X 27\n",
            "-> X 22\n",
            "-> X 21\n",
            "-> X 4\n",
            "-> X 10\n",
            "-> X 17\n",
            "-> X 16\n",
            "-> X 29\n",
            "-> X 12\n",
            "-> X 15\n",
            "X 1\n",
            "-> X 10\n",
            "-> X 17\n",
            "-> X 16\n",
            "-> X 29\n",
            "-> X 22\n",
            "-> X 21\n",
            "-> X 4\n",
            "-> X 6\n",
            "-> X 15\n",
            "-> X 24\n",
            "X 1\n",
            "-> X 17\n",
            "-> X 16\n",
            "-> X 29\n",
            "-> X 22\n",
            "-> X 21\n",
            "-> X 4\n",
            "-> X 10\n",
            "-> X 13\n",
            "-> X 9\n",
            "-> X 19\n",
            "start var =  0.51\n",
            "X 1\n",
            "-> X 16\n",
            "-> X 13\n",
            "-> X 21\n",
            "-> X 26\n",
            "-> X 15\n",
            "-> X 12\n",
            "-> X 18\n",
            "-> X 9\n",
            "-> X 6\n",
            "-> X 7\n",
            "X 1\n",
            "-> X 27\n",
            "-> X 16\n",
            "-> X 13\n",
            "-> X 21\n",
            "-> X 26\n",
            "-> X 15\n",
            "-> X 12\n",
            "-> X 18\n",
            "-> X 9\n",
            "-> X 6\n",
            "X 1\n",
            "-> X 18\n",
            "-> X 9\n",
            "-> X 6\n",
            "-> X 7\n",
            "-> X 10\n",
            "-> X 4\n",
            "-> X 3\n",
            "-> X 17\n",
            "-> X 11\n",
            "-> X 20\n",
            "start var =  1.01\n",
            "X 1\n",
            "-> X 10\n",
            "-> X 4\n",
            "-> X 25\n",
            "-> X 28\n",
            "-> X 22\n",
            "-> X 19\n",
            "-> X 16\n",
            "-> X 13\n",
            "-> X 3\n",
            "-> X 7\n",
            "X 1\n",
            "-> X 20\n",
            "-> X 17\n",
            "-> X 4\n",
            "-> X 25\n",
            "-> X 28\n",
            "-> X 22\n",
            "-> X 19\n",
            "-> X 16\n",
            "-> X 13\n",
            "-> X 3\n",
            "X 1\n",
            "-> X 6\n",
            "-> X 14\n",
            "-> X 17\n",
            "-> X 20\n",
            "-> X 22\n",
            "-> X 19\n",
            "-> X 16\n",
            "-> X 4\n",
            "-> X 25\n",
            "-> X 28\n",
            "start var =  1.51\n",
            "X 1\n",
            "-> X 3\n",
            "-> X 6\n",
            "-> X 25\n",
            "-> X 22\n",
            "-> X 19\n",
            "-> X 17\n",
            "-> X 20\n",
            "-> X 23\n",
            "-> X 24\n",
            "-> X 9\n",
            "X 1\n",
            "-> X 4\n",
            "-> X 3\n",
            "-> X 6\n",
            "-> X 25\n",
            "-> X 22\n",
            "-> X 19\n",
            "-> X 17\n",
            "-> X 20\n",
            "-> X 23\n",
            "X 1\n",
            "-> X 2\n",
            "-> X 5\n",
            "-> X 3\n",
            "-> X 6\n",
            "-> X 25\n",
            "-> X 22\n",
            "-> X 19\n",
            "-> X 17\n",
            "-> X 20\n",
            "-> X 23\n",
            "start var =  2.01\n",
            "X 1\n",
            "-> X 5\n",
            "-> X 8\n",
            "-> X 14\n",
            "-> X 11\n",
            "-> X 22\n",
            "-> X 25\n",
            "-> X 28\n",
            "-> X 17\n",
            "-> X 20\n",
            "-> X 23\n",
            "X 1\n",
            "-> X 15\n",
            "-> X 12\n",
            "-> X 6\n",
            "-> X 9\n",
            "-> X 25\n",
            "-> X 28\n",
            "-> X 17\n",
            "-> X 20\n",
            "-> X 23\n",
            "-> X 29\n",
            "X 1\n",
            "-> X 3\n",
            "-> X 17\n",
            "-> X 20\n",
            "-> X 23\n",
            "-> X 29\n",
            "-> X 26\n",
            "-> X 8\n",
            "-> X 14\n",
            "-> X 11\n",
            "-> X 22\n"
          ]
        }
      ]
    }
  ]
}